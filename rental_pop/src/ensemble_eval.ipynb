{
 "cells": [
  {
   "cell_type": "markdown",
   "metadata": {},
   "source": [
    "**Ensemble evaluation**"
   ]
  },
  {
   "cell_type": "code",
   "execution_count": 2,
   "metadata": {
    "collapsed": true
   },
   "outputs": [],
   "source": [
    "import os\n",
    "import pandas as pd\n",
    "\n",
    "PATH = '../output/ensemble/'"
   ]
  },
  {
   "cell_type": "code",
   "execution_count": 24,
   "metadata": {},
   "outputs": [
    {
     "data": {
      "text/html": [
       "<div>\n",
       "<table border=\"1\" class=\"dataframe\">\n",
       "  <thead>\n",
       "    <tr style=\"text-align: right;\">\n",
       "      <th></th>\n",
       "      <th>month.csvhigh</th>\n",
       "      <th>address_distance.csvhigh</th>\n",
       "      <th>mean_lowLR.csvhigh</th>\n",
       "      <th>puregrid.csvhigh</th>\n",
       "      <th>original.csvhigh</th>\n",
       "      <th>ensemble.csvhigh</th>\n",
       "      <th>gridprice.csvhigh</th>\n",
       "    </tr>\n",
       "  </thead>\n",
       "  <tbody>\n",
       "    <tr>\n",
       "      <th>month.csvhigh</th>\n",
       "      <td>1.000000</td>\n",
       "      <td>0.983640</td>\n",
       "      <td>0.994646</td>\n",
       "      <td>0.884339</td>\n",
       "      <td>0.978760</td>\n",
       "      <td>0.990804</td>\n",
       "      <td>0.966077</td>\n",
       "    </tr>\n",
       "    <tr>\n",
       "      <th>address_distance.csvhigh</th>\n",
       "      <td>0.983640</td>\n",
       "      <td>1.000000</td>\n",
       "      <td>0.986467</td>\n",
       "      <td>0.892170</td>\n",
       "      <td>0.982116</td>\n",
       "      <td>0.989006</td>\n",
       "      <td>0.953036</td>\n",
       "    </tr>\n",
       "    <tr>\n",
       "      <th>mean_lowLR.csvhigh</th>\n",
       "      <td>0.994646</td>\n",
       "      <td>0.986467</td>\n",
       "      <td>1.000000</td>\n",
       "      <td>0.882254</td>\n",
       "      <td>0.985065</td>\n",
       "      <td>0.991403</td>\n",
       "      <td>0.963389</td>\n",
       "    </tr>\n",
       "    <tr>\n",
       "      <th>puregrid.csvhigh</th>\n",
       "      <td>0.884339</td>\n",
       "      <td>0.892170</td>\n",
       "      <td>0.882254</td>\n",
       "      <td>1.000000</td>\n",
       "      <td>0.872871</td>\n",
       "      <td>0.928310</td>\n",
       "      <td>0.893407</td>\n",
       "    </tr>\n",
       "    <tr>\n",
       "      <th>original.csvhigh</th>\n",
       "      <td>0.978760</td>\n",
       "      <td>0.982116</td>\n",
       "      <td>0.985065</td>\n",
       "      <td>0.872871</td>\n",
       "      <td>1.000000</td>\n",
       "      <td>0.981842</td>\n",
       "      <td>0.939419</td>\n",
       "    </tr>\n",
       "    <tr>\n",
       "      <th>ensemble.csvhigh</th>\n",
       "      <td>0.990804</td>\n",
       "      <td>0.989006</td>\n",
       "      <td>0.991403</td>\n",
       "      <td>0.928310</td>\n",
       "      <td>0.981842</td>\n",
       "      <td>1.000000</td>\n",
       "      <td>0.976405</td>\n",
       "    </tr>\n",
       "    <tr>\n",
       "      <th>gridprice.csvhigh</th>\n",
       "      <td>0.966077</td>\n",
       "      <td>0.953036</td>\n",
       "      <td>0.963389</td>\n",
       "      <td>0.893407</td>\n",
       "      <td>0.939419</td>\n",
       "      <td>0.976405</td>\n",
       "      <td>1.000000</td>\n",
       "    </tr>\n",
       "  </tbody>\n",
       "</table>\n",
       "</div>"
      ],
      "text/plain": [
       "                          month.csvhigh  address_distance.csvhigh  \\\n",
       "month.csvhigh                  1.000000                  0.983640   \n",
       "address_distance.csvhigh       0.983640                  1.000000   \n",
       "mean_lowLR.csvhigh             0.994646                  0.986467   \n",
       "puregrid.csvhigh               0.884339                  0.892170   \n",
       "original.csvhigh               0.978760                  0.982116   \n",
       "ensemble.csvhigh               0.990804                  0.989006   \n",
       "gridprice.csvhigh              0.966077                  0.953036   \n",
       "\n",
       "                          mean_lowLR.csvhigh  puregrid.csvhigh  \\\n",
       "month.csvhigh                       0.994646          0.884339   \n",
       "address_distance.csvhigh            0.986467          0.892170   \n",
       "mean_lowLR.csvhigh                  1.000000          0.882254   \n",
       "puregrid.csvhigh                    0.882254          1.000000   \n",
       "original.csvhigh                    0.985065          0.872871   \n",
       "ensemble.csvhigh                    0.991403          0.928310   \n",
       "gridprice.csvhigh                   0.963389          0.893407   \n",
       "\n",
       "                          original.csvhigh  ensemble.csvhigh  \\\n",
       "month.csvhigh                     0.978760          0.990804   \n",
       "address_distance.csvhigh          0.982116          0.989006   \n",
       "mean_lowLR.csvhigh                0.985065          0.991403   \n",
       "puregrid.csvhigh                  0.872871          0.928310   \n",
       "original.csvhigh                  1.000000          0.981842   \n",
       "ensemble.csvhigh                  0.981842          1.000000   \n",
       "gridprice.csvhigh                 0.939419          0.976405   \n",
       "\n",
       "                          gridprice.csvhigh  \n",
       "month.csvhigh                      0.966077  \n",
       "address_distance.csvhigh           0.953036  \n",
       "mean_lowLR.csvhigh                 0.963389  \n",
       "puregrid.csvhigh                   0.893407  \n",
       "original.csvhigh                   0.939419  \n",
       "ensemble.csvhigh                   0.976405  \n",
       "gridprice.csvhigh                  1.000000  "
      ]
     },
     "execution_count": 24,
     "metadata": {},
     "output_type": "execute_result"
    }
   ],
   "source": [
    "dfs = []\n",
    "for f in os.listdir(PATH):\n",
    "    frame = pd.read_csv(PATH + f, usecols=['high'])\n",
    "    frame.columns = f + frame.columns\n",
    "    dfs.append(frame)\n",
    "pd.concat(dfs, axis=1).corr()\n"
   ]
  },
  {
   "cell_type": "markdown",
   "metadata": {},
   "source": [
    "low : puregrid, gridprice, original\n",
    "med : puregrid, original, gridprice\n",
    "high : puregrid, gridprice, month"
   ]
  },
  {
   "cell_type": "code",
   "execution_count": null,
   "metadata": {
    "collapsed": true
   },
   "outputs": [],
   "source": []
  }
 ],
 "metadata": {
  "kernelspec": {
   "display_name": "Python 2",
   "language": "python",
   "name": "python2"
  },
  "language_info": {
   "codemirror_mode": {
    "name": "ipython",
    "version": 2
   },
   "file_extension": ".py",
   "mimetype": "text/x-python",
   "name": "python",
   "nbconvert_exporter": "python",
   "pygments_lexer": "ipython2",
   "version": "2.7.12"
  }
 },
 "nbformat": 4,
 "nbformat_minor": 2
}
