{
 "cells": [
  {
   "cell_type": "markdown",
   "metadata": {},
   "source": [
    "**Ensemble evaluation**"
   ]
  },
  {
   "cell_type": "code",
   "execution_count": 29,
   "metadata": {
    "collapsed": true
   },
   "outputs": [],
   "source": [
    "import os\n",
    "import pandas as pd\n",
    "\n",
    "PATH = '../output/ensemble/'"
   ]
  },
  {
   "cell_type": "code",
   "execution_count": 31,
   "metadata": {},
   "outputs": [
    {
     "data": {
      "text/html": [
       "<div>\n",
       "<table border=\"1\" class=\"dataframe\">\n",
       "  <thead>\n",
       "    <tr style=\"text-align: right;\">\n",
       "      <th></th>\n",
       "      <th>month.csvhigh</th>\n",
       "      <th>puregrid.csvhigh</th>\n",
       "      <th>original.csvhigh</th>\n",
       "      <th>ensemble.csvhigh</th>\n",
       "      <th>gridprice.csvhigh</th>\n",
       "    </tr>\n",
       "  </thead>\n",
       "  <tbody>\n",
       "    <tr>\n",
       "      <th>month.csvhigh</th>\n",
       "      <td>1.000000</td>\n",
       "      <td>0.884339</td>\n",
       "      <td>0.978760</td>\n",
       "      <td>0.985303</td>\n",
       "      <td>0.966077</td>\n",
       "    </tr>\n",
       "    <tr>\n",
       "      <th>puregrid.csvhigh</th>\n",
       "      <td>0.884339</td>\n",
       "      <td>1.000000</td>\n",
       "      <td>0.872871</td>\n",
       "      <td>0.942654</td>\n",
       "      <td>0.893407</td>\n",
       "    </tr>\n",
       "    <tr>\n",
       "      <th>original.csvhigh</th>\n",
       "      <td>0.978760</td>\n",
       "      <td>0.872871</td>\n",
       "      <td>1.000000</td>\n",
       "      <td>0.974708</td>\n",
       "      <td>0.939419</td>\n",
       "    </tr>\n",
       "    <tr>\n",
       "      <th>ensemble.csvhigh</th>\n",
       "      <td>0.985303</td>\n",
       "      <td>0.942654</td>\n",
       "      <td>0.974708</td>\n",
       "      <td>1.000000</td>\n",
       "      <td>0.979154</td>\n",
       "    </tr>\n",
       "    <tr>\n",
       "      <th>gridprice.csvhigh</th>\n",
       "      <td>0.966077</td>\n",
       "      <td>0.893407</td>\n",
       "      <td>0.939419</td>\n",
       "      <td>0.979154</td>\n",
       "      <td>1.000000</td>\n",
       "    </tr>\n",
       "  </tbody>\n",
       "</table>\n",
       "</div>"
      ],
      "text/plain": [
       "                   month.csvhigh  puregrid.csvhigh  original.csvhigh  \\\n",
       "month.csvhigh           1.000000          0.884339          0.978760   \n",
       "puregrid.csvhigh        0.884339          1.000000          0.872871   \n",
       "original.csvhigh        0.978760          0.872871          1.000000   \n",
       "ensemble.csvhigh        0.985303          0.942654          0.974708   \n",
       "gridprice.csvhigh       0.966077          0.893407          0.939419   \n",
       "\n",
       "                   ensemble.csvhigh  gridprice.csvhigh  \n",
       "month.csvhigh              0.985303           0.966077  \n",
       "puregrid.csvhigh           0.942654           0.893407  \n",
       "original.csvhigh           0.974708           0.939419  \n",
       "ensemble.csvhigh           1.000000           0.979154  \n",
       "gridprice.csvhigh          0.979154           1.000000  "
      ]
     },
     "execution_count": 31,
     "metadata": {},
     "output_type": "execute_result"
    }
   ],
   "source": [
    "dfs = []\n",
    "for f in os.listdir(PATH):\n",
    "    frame = pd.read_csv(PATH + f, usecols=['high'])\n",
    "    frame.columns = f + frame.columns\n",
    "    dfs.append(frame)\n",
    "pd.concat(dfs, axis=1).corr()\n"
   ]
  },
  {
   "cell_type": "markdown",
   "metadata": {},
   "source": [
    "low : puregrid, gridprice, original\n",
    "med : puregrid, original, gridprice\n",
    "high : puregrid, gridprice, month"
   ]
  },
  {
   "cell_type": "code",
   "execution_count": null,
   "metadata": {
    "collapsed": true
   },
   "outputs": [],
   "source": []
  }
 ],
 "metadata": {
  "kernelspec": {
   "display_name": "Python 2",
   "language": "python",
   "name": "python2"
  },
  "language_info": {
   "codemirror_mode": {
    "name": "ipython",
    "version": 2
   },
   "file_extension": ".py",
   "mimetype": "text/x-python",
   "name": "python",
   "nbconvert_exporter": "python",
   "pygments_lexer": "ipython2",
   "version": "2.7.12"
  }
 },
 "nbformat": 4,
 "nbformat_minor": 2
}
